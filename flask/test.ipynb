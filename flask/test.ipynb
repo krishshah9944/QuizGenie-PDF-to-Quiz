{
 "cells": [
  {
   "cell_type": "code",
   "execution_count": 1,
   "metadata": {},
   "outputs": [],
   "source": [
    "from langchain_community.document_loaders import PyPDFLoader\n",
    "from langchain.text_splitter import RecursiveCharacterTextSplitter\n",
    "from langchain_groq import ChatGroq\n",
    "from langchain.prompts import PromptTemplate\n",
    "from langchain.chains import LLMChain\n",
    "import os"
   ]
  },
  {
   "cell_type": "code",
   "execution_count": 6,
   "metadata": {},
   "outputs": [],
   "source": [
    "prompt_template = \"\"\"\n",
    "You are a quiz creator. Based on the following content, generate a JSON quiz containing 3-5 multiple-choice questions. \n",
    "Each question should have 4 options, 1 correct answer, and a clear explanation.\n",
    "\n",
    "Content: {content}\n",
    "\n",
    "Output format:\n",
    "[\n",
    "    {{\n",
    "        \"id\": 1,\n",
    "        \"question\": \"Question text\",\n",
    "        \"options\": [\"Option A\", \"Option B\", \"Option C\", \"Option D\"],\n",
    "        \"correctAnswer\": 1,  // Index of the correct answer\n",
    "        \"explanation\": \"Explanation of the correct answer.\"\n",
    "    }},\n",
    "    ...\n",
    "]\n",
    "\"\"\"\n",
    "prompt_template2=\"\"\"\n",
    "You are a quiz creator. Based on the following content, generate a JSON quiz containing 3-5 multiple-choice questions. \n",
    "Each question should have 4 options, 1 correct answer, and a clear explanation.\n",
    "\n",
    "Content: {content}\n",
    "Output format:\n",
    "[\n",
    "    {\n",
    "        \"id\": 1,\n",
    "        \"question\": \"Question text\",\n",
    "        \"options\": [\"Option A\", \"Option B\", \"Option C\", \"Option D\"],\n",
    "        \"correctAnswer\": 0,  // 0-based index of the correct answer\n",
    "        \"explanation\": \"Explanation of the correct answer.\"\n",
    "    },\n",
    "    {\n",
    "        \"id\": 2,\n",
    "        \"question\": \"Another question text\",\n",
    "        \"options\": [\"Option A\", \"Option B\", \"Option C\", \"Option D\"],\n",
    "        \"correctAnswer\": 2,\n",
    "        \"explanation\": \"Explanation of the correct answer.\"\n",
    "    }\n",
    "    ...\n",
    "]\n",
    "\"\"\""
   ]
  },
  {
   "cell_type": "code",
   "execution_count": 3,
   "metadata": {},
   "outputs": [],
   "source": [
    "loader = PyPDFLoader('QUANTSmod9.pdf')\n",
    "documents = loader.load()"
   ]
  },
  {
   "cell_type": "code",
   "execution_count": 9,
   "metadata": {},
   "outputs": [
    {
     "name": "stdout",
     "output_type": "stream",
     "text": [
      "Content being passed to the chain: Parametric and Non-Parametric \n",
      "Tests of Independence\n",
      "by Pamela Peterson Drake, PhD, CFA.\n",
      "Pamela Peterson Drake, PhD, CFA, is at James Madison University (USA).\n",
      "LEARNING OUTCOMES\n",
      "Mastery The candidate should be able to:\n",
      "explain parametric and nonparametric tests of the hypothesis that \n",
      "the population correlation coefficient equals zero, and determine whether the hypothesis is rejected at a given level of significance \n",
      "explain tests of independence based on contingency table data\n",
      "INTRODUCTION\n",
      "In m\n",
      "content='Here is a JSON quiz based on the provided content:\\n\\n```\\n[\\n    {\\n        \"id\": 1,\\n        \"question\": \"What is the primary goal of tests of independence in investments?\",\\n        \"options\": [\"To evaluate the correlation between two variables\", \"To determine the mean of a single variable\", \"To compare the variance of two variables\", \"To identify the mode of a dataset\"],\\n        \"correctAnswer\": 0,\\n        \"explanation\": \"The primary goal of tests of independence in investments is to evaluate the correlation between two variables, which helps assess the strength of their linear relationship.\"\\n    },\\n    {\\n        \"id\": 2,\\n        \"question\": \"What type of data is used in tests of independence based on contingency table data?\",\\n        \"options\": [\"Time series data\", \"Cross-sectional data\", \"Panel data\", \"Contingency table data\"],\\n        \"correctAnswer\": 3,\\n        \"explanation\": \"Tests of independence based on contingency table data use contingency table data, which is a table used to display the relationship between two categorical variables.\"\\n    },\\n    {\\n        \"id\": 3,\\n        \"question\": \"What is the hypothesis being tested in parametric and nonparametric tests of the hypothesis that the population correlation coefficient equals zero?\",\\n        \"options\": [\"The null hypothesis that the population correlation coefficient is greater than zero\", \"The null hypothesis that the population correlation coefficient equals one\", \"The null hypothesis that the population correlation coefficient equals zero\", \"The null hypothesis that the population correlation coefficient is less than zero\"],\\n        \"correctAnswer\": 2,\\n        \"explanation\": \"The hypothesis being tested in parametric and nonparametric tests is the null hypothesis that the population correlation coefficient equals zero, which means there is no linear relationship between the two variables.\"\\n    }\\n]\\n```\\n\\nLet me know if you need any modifications!' additional_kwargs={} response_metadata={'token_usage': {'completion_tokens': 383, 'prompt_tokens': 269, 'total_tokens': 652, 'completion_time': 1.115133238, 'prompt_time': 0.017113844, 'queue_time': 0.022167154999999997, 'total_time': 1.132247082}, 'model_name': 'llama3-70b-8192', 'system_fingerprint': 'fp_7ab5f7e105', 'finish_reason': 'stop', 'logprobs': None} id='run-b02606f3-6cf8-4ca7-94ae-d216d2260c62-0' usage_metadata={'input_tokens': 269, 'output_tokens': 383, 'total_tokens': 652}\n"
     ]
    }
   ],
   "source": [
    "GROQ_API_KEY = \"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\"\n",
    "text_splitter = RecursiveCharacterTextSplitter(chunk_size=1000, chunk_overlap=100)\n",
    "text_chunks = text_splitter.split_documents(documents)\n",
    "\n",
    "        # Use LangChain's LLM to generate the quiz\n",
    "llm = ChatGroq(model='llama3-70b-8192', api_key=GROQ_API_KEY)  # Use your preferred LLM\n",
    "prompt = PromptTemplate(input_variables=[\"content\"], template=prompt_template)\n",
    "        # chain = LLMChain(llm=llm, prompt=prompt)\n",
    "chain = prompt | llm\n",
    "\n",
    "        # Generate quiz questions for the first chunk of content\n",
    "content = text_chunks[0].page_content\n",
    "print(f\"Content being passed to the chain: {content[:500]}\")\n",
    "  # You can extend this for more chunks\n",
    "# content_str = str(content)  # Ensure content is a string\n",
    "quiz_json = chain.invoke(content)\n",
    "print(quiz_json)\n"
   ]
  },
  {
   "cell_type": "code",
   "execution_count": 11,
   "metadata": {},
   "outputs": [
    {
     "name": "stdout",
     "output_type": "stream",
     "text": [
      "[{'id': 1, 'question': 'What is the primary goal of tests of independence in investments?', 'options': ['To evaluate the correlation between two variables', 'To determine the mean of a single variable', 'To compare the variance of two variables', 'To identify the mode of a dataset'], 'correctAnswer': 0, 'explanation': 'The primary goal of tests of independence in investments is to evaluate the correlation between two variables, which helps assess the strength of their linear relationship.'}, {'id': 2, 'question': 'What type of data is used in tests of independence based on contingency table data?', 'options': ['Time series data', 'Cross-sectional data', 'Panel data', 'Contingency table data'], 'correctAnswer': 3, 'explanation': 'Tests of independence based on contingency table data use contingency table data, which is a table used to display the relationship between two categorical variables.'}, {'id': 3, 'question': 'What is the hypothesis being tested in parametric and nonparametric tests of the hypothesis that the population correlation coefficient equals zero?', 'options': ['The null hypothesis that the population correlation coefficient is greater than zero', 'The null hypothesis that the population correlation coefficient equals one', 'The null hypothesis that the population correlation coefficient equals zero', 'The null hypothesis that the population correlation coefficient is less than zero'], 'correctAnswer': 2, 'explanation': 'The hypothesis being tested in parametric and nonparametric tests is the null hypothesis that the population correlation coefficient equals zero, which means there is no linear relationship between the two variables.'}]\n"
     ]
    }
   ],
   "source": [
    "import re\n",
    "import json\n",
    "\n",
    "def extract_json_from_response(response):\n",
    "    \"\"\"\n",
    "    Extracts JSON content from the LLM response safely.\n",
    "    Handles cases where the response is an AIMessage object.\n",
    "    \"\"\"\n",
    "    if isinstance(response, dict):  # Sometimes response can be a dict\n",
    "        response_text = json.dumps(response)\n",
    "    elif hasattr(response, \"content\"):  # AIMessage object case\n",
    "        response_text = response.content\n",
    "    elif isinstance(response, str):\n",
    "        response_text = response\n",
    "    else:\n",
    "        print(f\"Unexpected response type: {type(response)}\")\n",
    "        return None\n",
    "\n",
    "    # Extract JSON part using regex\n",
    "    match = re.search(r\"\\[.*\\]\", response_text, re.DOTALL)\n",
    "    if match:\n",
    "        json_string = match.group(0)  # Extract JSON\n",
    "        try:\n",
    "            return json.loads(json_string)  # Convert to Python dict\n",
    "        except json.JSONDecodeError as e:\n",
    "            print(f\"Error decoding JSON: {e}\")\n",
    "            return None\n",
    "    else:\n",
    "        print(\"No JSON found in the response.\")\n",
    "        return None\n",
    "\n",
    "\n",
    "cleaned=extract_json_from_response(quiz_json)\n",
    "print(cleaned)"
   ]
  },
  {
   "cell_type": "code",
   "execution_count": null,
   "metadata": {},
   "outputs": [],
   "source": []
  }
 ],
 "metadata": {
  "kernelspec": {
   "display_name": "Langchain",
   "language": "python",
   "name": "python3"
  },
  "language_info": {
   "codemirror_mode": {
    "name": "ipython",
    "version": 3
   },
   "file_extension": ".py",
   "mimetype": "text/x-python",
   "name": "python",
   "nbconvert_exporter": "python",
   "pygments_lexer": "ipython3",
   "version": "3.12.0"
  }
 },
 "nbformat": 4,
 "nbformat_minor": 2
}
